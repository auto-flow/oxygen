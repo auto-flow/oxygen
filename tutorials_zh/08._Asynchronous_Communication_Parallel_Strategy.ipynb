{
 "cells": [
  {
   "cell_type": "markdown",
   "metadata": {},
   "source": [
    "## 08. 异步通信并行策略"
   ]
  },
  {
   "cell_type": "markdown",
   "metadata": {},
   "source": [
    "UltraOpt的异步通信并行策略代码基本借鉴和使用了`HpBandSter`的代码，您可以参考[HpBandSter文档](https://automl.github.io/HpBandSter/build/html/index.html)来理解这部分教程的内容。\n",
    "\n",
    "---\n"
   ]
  },
  {
   "cell_type": "markdown",
   "metadata": {},
   "source": [
    "UltraOpt支持以下3种并行策略：\n",
    "\n",
    "|并行策略|策略名|是否支持多保真度|\n",
    "|-------|-----|-------------|\n",
    "|串行| Serial| No |\n",
    "|MapReduce| MapReduce| No |\n",
    "|异步通信|AsyncComm| **Yes** |"
   ]
  },
  {
   "cell_type": "markdown",
   "metadata": {},
   "source": [
    "UltraOpt的并行策略默认为 `AsyncComm`， 即 `异步通信`。如果您设置了 `n_jobs=1` 并且 `multi_fidelity_iter_generator=None` ，UltraOpt自动推断您的并行策略为 `Serial` \n",
    "\n",
    "如果您想关闭自动推断，可以在`fmin`中设置`auto_identify_serial_strategy=False`\n",
    "\n",
    "---"
   ]
  },
  {
   "cell_type": "markdown",
   "metadata": {},
   "source": [
    "我们之前介绍过UltraOpt的设计哲学是以优化器为中心，其中优化器实现了`ask`(样本推荐)和`tell`(结果反馈)两个接口。现在，我们通过一套远程过程调用框架(Pyro4)异步地实现整个过程：\n",
    "\n",
    "![AsyncComm](https://img-blog.csdnimg.cn/20210102124133367.jpg)\n",
    "\n",
    "在这个异步通信框架中，有以下几个重要组件：\n",
    "\n",
    "- **NameServer** 提供按名寻址的命名服务 | [HpBandSter对应文档](https://automl.github.io/HpBandSter/build/html/core/nameserver.html)\n",
    "- **Master** 整合了优化器与多保真度迭代生成器，只负责任务的调度和优化器更新，不负责配置的评价(如AutoML场景的训练与预测)\n",
    "- **Worker** 可以部署在集群的不同计算结点上，受Master的调度， 负责对配置进行评价(如AutoML场景的训练与预测)，并将结果返回给`Dispacher`\n",
    "- **Dispacher** 调度器，负责将`Master`的计算请求发送给`Worker`，和返回`Worker`结果给`Master`\n"
   ]
  },
  {
   "cell_type": "markdown",
   "metadata": {},
   "source": [
    "---"
   ]
  },
  {
   "cell_type": "markdown",
   "metadata": {},
   "source": [
    "下面我们通过一个实例，自定义Worker并绕开`ultraopt.fmin`中启动`Workers`和`Master`"
   ]
  },
  {
   "cell_type": "code",
   "execution_count": 1,
   "metadata": {},
   "outputs": [],
   "source": [
    "from ultraopt.async_comm.master import Master\n",
    "from ultraopt.async_comm.worker import Worker\n",
    "from ultraopt.async_comm.nameserver import NameServer\n",
    "from ultraopt.utils.net import get_a_free_port\n",
    "import logging\n",
    "logging.basicConfig(level=logging.INFO)  # verbose print"
   ]
  },
  {
   "cell_type": "markdown",
   "metadata": {},
   "source": [
    "### 启动 NameServer"
   ]
  },
  {
   "cell_type": "code",
   "execution_count": 2,
   "metadata": {},
   "outputs": [],
   "source": [
    "ns_host = \"0.0.0.0\"\n",
    "port = get_a_free_port(9090, ns_host)"
   ]
  },
  {
   "cell_type": "code",
   "execution_count": 3,
   "metadata": {},
   "outputs": [],
   "source": [
    "NS = NameServer(run_id=\"learn_ultraopt\", host=ns_host, port=port)"
   ]
  },
  {
   "cell_type": "code",
   "execution_count": 4,
   "metadata": {},
   "outputs": [
    {
     "data": {
      "text/plain": [
       "('0.0.0.0', 9090)"
      ]
     },
     "execution_count": 4,
     "metadata": {},
     "output_type": "execute_result"
    }
   ],
   "source": [
    "NS.start()"
   ]
  },
  {
   "cell_type": "markdown",
   "metadata": {},
   "source": [
    "### 启动 Worker"
   ]
  },
  {
   "cell_type": "markdown",
   "metadata": {},
   "source": [
    "启动用于AutoML场景的`Worker` (仅作为参考，您可以根据自己的需求进行设计)"
   ]
  },
  {
   "cell_type": "markdown",
   "metadata": {},
   "source": [
    "- 方案1. 采用默认`Worker`，用`评价函数`对其初始化"
   ]
  },
  {
   "cell_type": "code",
   "execution_count": 5,
   "metadata": {},
   "outputs": [],
   "source": [
    "# 引入automl评价函数\n",
    "from ultraopt.tests.automl import evaluator"
   ]
  },
  {
   "cell_type": "code",
   "execution_count": 6,
   "metadata": {},
   "outputs": [],
   "source": [
    "worker1 = Worker(\n",
    "    run_id=\"learn_ultraopt\",\n",
    "    nameserver=ns_host,\n",
    "    nameserver_port=port,\n",
    "    worker_id=0\n",
    ")"
   ]
  },
  {
   "cell_type": "markdown",
   "metadata": {},
   "source": [
    "用`评价函数`对其初始化"
   ]
  },
  {
   "cell_type": "code",
   "execution_count": 7,
   "metadata": {},
   "outputs": [],
   "source": [
    "worker1.initialize(evaluator) "
   ]
  },
  {
   "cell_type": "markdown",
   "metadata": {},
   "source": [
    "采用**线程**在**后台**运行Worker"
   ]
  },
  {
   "cell_type": "code",
   "execution_count": 8,
   "metadata": {},
   "outputs": [
    {
     "name": "stderr",
     "output_type": "stream",
     "text": [
      "INFO:Worker[0]:WORKER(worker_id='ultraopt.run_learn_ultraopt.worker.tqc-PC.25369.0_139894424450816'): start listening for jobs\n"
     ]
    }
   ],
   "source": [
    "worker1.run(\n",
    "    background=True,\n",
    "    concurrent_type=\"thread\" # 也可以采用 process ，但可能会在Python3.7+版本启动失败，故建议用线程\n",
    ")"
   ]
  },
  {
   "cell_type": "markdown",
   "metadata": {},
   "source": [
    "- 方案2. 继承默认`Worker`为专用`Worker`，重写`compute`函数"
   ]
  },
  {
   "cell_type": "markdown",
   "metadata": {},
   "source": [
    "我们在 `05. Implement a Simple AutoML System` 教程中学习过， AutoML评价器依赖 `训练数据` ，在实际应用中，`训练数据` 往往都很大。上文演示的用**本地函数**简单地启动多个`Worker`的方法就不能在**集群环境**下使用了。\n",
    "\n",
    "在**集群环境**下，我们应该在每个计算结点单独启动`Worker`。这就需要我们继承默认`Worker`为**专用**`Worker`，并重写`compute`函数。\n",
    "\n",
    "我们参考教程 `06. Combine Multi-Fidelity Optimization` 或者 `ultraopt.tests.automl.Evaluator` 关于评价器的实现，开发 `AutoMLWorker` 。我们需要注意3点：\n",
    "\n",
    "- note 1 : 记得调用基类的构造函数\n",
    "- note 2 : 记得重载 `compute` 函数\n",
    "- note 3 : 记得 `compute` 函数的返回值为字典类型，且必须含有 `loss` 键"
   ]
  },
  {
   "cell_type": "code",
   "execution_count": 9,
   "metadata": {},
   "outputs": [],
   "source": [
    "from sklearn.svm import LinearSVC\n",
    "from sklearn.ensemble import RandomForestClassifier\n",
    "from sklearn.neighbors import KNeighborsClassifier\n",
    "import sklearn.metrics\n",
    "from sklearn.datasets import load_digits\n",
    "from sklearn.model_selection import StratifiedKFold  \n",
    "import numpy as np\n",
    "\n",
    "from ultraopt.hdl import layering_config\n",
    "\n",
    "default_cv = StratifiedKFold(n_splits=3, shuffle=True, random_state=0)\n",
    "\n",
    "class AutoMLWorker(Worker):\n",
    "    def __init__(\n",
    "        self,\n",
    "        X, y,\n",
    "        metric=\"accuracy\",\n",
    "        cv=default_cv,\n",
    "        **kwargs\n",
    "    ):\n",
    "        self.X = X\n",
    "        self.y = y\n",
    "        self.metric = metric\n",
    "        self.cv = cv\n",
    "        # note 1 : 记得调用基类的构造函数\n",
    "        super(AutoMLWorker, self).__init__(**kwargs)\n",
    "    \n",
    "    # note 2 : 记得重载 `compute` 函数\n",
    "    def compute(self, config_id, config, config_info, budget, working_directory):\n",
    "        '''重写基类的 compute 函数'''\n",
    "        layered_dict = layering_config(config)\n",
    "        AS_HP = layered_dict['classifier'].copy()\n",
    "        AS, HP = AS_HP.popitem()\n",
    "        ML_model = eval(AS)(**HP)\n",
    "        sample_ratio  = budget\n",
    "        scores = []\n",
    "        for i, (train_ix, valid_ix) in enumerate(self.cv.split(X, y)):\n",
    "            rng = np.random.RandomState(i)\n",
    "            size = int(train_ix.size * sample_ratio)\n",
    "            train_ix = rng.choice(train_ix, size, replace=False)\n",
    "            X_train = X[train_ix, :]\n",
    "            y_train = y[train_ix]\n",
    "            X_valid = X[valid_ix, :]\n",
    "            y_valid = y[valid_ix]\n",
    "            ML_model.fit(X_train, y_train)\n",
    "            y_pred = ML_model.predict(X_valid)\n",
    "            score = eval(f\"sklearn.metrics.{self.metric}_score\")(y_valid, y_pred)\n",
    "            scores.append(score)\n",
    "        score = np.mean(scores)\n",
    "        # note 3 : 记得 `compute` 函数的返回值为字典类型，且必须含有 `loss` 键\n",
    "        return {\n",
    "            \"loss\": 1 - score  \n",
    "        }"
   ]
  },
  {
   "cell_type": "markdown",
   "metadata": {},
   "source": [
    "模拟在计算结点中加载本地数据并实例化一个worker"
   ]
  },
  {
   "cell_type": "code",
   "execution_count": 10,
   "metadata": {},
   "outputs": [],
   "source": [
    "X, y = load_digits(return_X_y=True)\n",
    "worker2 = AutoMLWorker(\n",
    "    X, y, \n",
    "    # 与异步通信有关的配置保持不变\n",
    "    run_id=\"learn_ultraopt\",\n",
    "    nameserver=ns_host,\n",
    "    nameserver_port=port,\n",
    "    worker_id=1\n",
    ")"
   ]
  },
  {
   "cell_type": "code",
   "execution_count": 11,
   "metadata": {},
   "outputs": [
    {
     "name": "stderr",
     "output_type": "stream",
     "text": [
      "INFO:Worker[1]:WORKER(worker_id='ultraopt.run_learn_ultraopt.worker.tqc-PC.25369.1_139894424450816'): start listening for jobs\n"
     ]
    }
   ],
   "source": [
    "worker2.run(background=True)"
   ]
  },
  {
   "cell_type": "markdown",
   "metadata": {},
   "source": [
    "### 启动 Master"
   ]
  },
  {
   "cell_type": "code",
   "execution_count": 12,
   "metadata": {},
   "outputs": [],
   "source": [
    "from ultraopt.optimizer import ETPEOptimizer\n",
    "from ultraopt.multi_fidelity import HyperBandIterGenerator\n",
    "from ultraopt.utils.progress import default_callback\n",
    "from ultraopt.tests.automl import config_space\n",
    "import warnings\n",
    "warnings.filterwarnings(\"ignore\")"
   ]
  },
  {
   "cell_type": "code",
   "execution_count": 13,
   "metadata": {},
   "outputs": [],
   "source": [
    "# 控制tabular_nn 日志等级\n",
    "logging.getLogger(\"tabular_nn.component.embedding_encoder.EmbeddingEncoder\").setLevel(logging.WARNING)\n",
    "logging.getLogger(\"tabular_nn.entity_embedding_nn.TrainEntityEmbeddingNN\").setLevel(logging.WARNING)"
   ]
  },
  {
   "cell_type": "code",
   "execution_count": 14,
   "metadata": {},
   "outputs": [],
   "source": [
    "optimizer = ETPEOptimizer()"
   ]
  },
  {
   "cell_type": "code",
   "execution_count": 15,
   "metadata": {},
   "outputs": [],
   "source": [
    "iter_generator = HyperBandIterGenerator(min_budget=1/4, max_budget=1, eta=2)"
   ]
  },
  {
   "cell_type": "code",
   "execution_count": 16,
   "metadata": {},
   "outputs": [],
   "source": [
    "optimizer.initialize(config_space=config_space, budgets=iter_generator.get_budgets())"
   ]
  },
  {
   "cell_type": "code",
   "execution_count": 17,
   "metadata": {},
   "outputs": [],
   "source": [
    "master = Master(\n",
    "    run_id=\"learn_ultraopt\", \n",
    "    optimizer=optimizer, \n",
    "    iter_generator=iter_generator, \n",
    "    progress_callback=default_callback,\n",
    "    checkpoint_file=None, # 不保存检查点\n",
    "    checkpoint_freq=1,\n",
    "    nameserver=ns_host, \n",
    ")"
   ]
  },
  {
   "cell_type": "code",
   "execution_count": 18,
   "metadata": {},
   "outputs": [
    {
     "name": "stdout",
     "output_type": "stream",
     "text": [
      "  3%|▎         | 4/130 [00:00<00:16,  7.52trial/s, max budget: 0.25, best loss: 0.048]"
     ]
    },
    {
     "name": "stderr",
     "output_type": "stream",
     "text": [
      "INFO:incumbent_trajectory:Challenger (0.0328) is better than incumbent (0.0774) when budget is (1/2).\n",
      "INFO:incumbent_trajectory:Changes in incumbent:\n",
      "INFO:incumbent_trajectory:  classifier:KNeighborsClassifier:n_neighbors : 52 -> 5\n",
      "INFO:incumbent_trajectory:  classifier:KNeighborsClassifier:p : '2:int' -> '1:int'\n"
     ]
    },
    {
     "name": "stdout",
     "output_type": "stream",
     "text": [
      "  5%|▌         | 7/130 [00:00<00:16,  7.33trial/s, max budget: 0.25, best loss: 0.048]"
     ]
    },
    {
     "name": "stderr",
     "output_type": "stream",
     "text": [
      "INFO:incumbent_trajectory:Challenger (0.0289) is better than incumbent (0.0328) when budget is (1/2).\n",
      "INFO:incumbent_trajectory:Changes in incumbent:\n",
      "INFO:incumbent_trajectory:  classifier:KNeighborsClassifier:n_neighbors : 5 -> 1\n"
     ]
    },
    {
     "name": "stdout",
     "output_type": "stream",
     "text": [
      "  7%|▋         | 9/130 [00:01<00:14,  8.46trial/s, max budget: 0.25, best loss: 0.048]"
     ]
    },
    {
     "name": "stderr",
     "output_type": "stream",
     "text": [
      "INFO:incumbent_trajectory:Challenger (0.0184) is better than incumbent (0.0189) when budget is (1).\n",
      "INFO:incumbent_trajectory:Changes in incumbent:\n",
      "INFO:incumbent_trajectory:  classifier:KNeighborsClassifier:n_neighbors : 5 -> 1\n"
     ]
    },
    {
     "name": "stdout",
     "output_type": "stream",
     "text": [
      " 44%|████▍     | 57/130 [00:14<00:23,  3.08trial/s, max budget: 1.0, best loss: 0.018] "
     ]
    },
    {
     "name": "stderr",
     "output_type": "stream",
     "text": [
      "INFO:incumbent_trajectory:Challenger (0.0217) is better than incumbent (0.0289) when budget is (1/2).\n",
      "INFO:incumbent_trajectory:Changes in incumbent:\n",
      "INFO:incumbent_trajectory:  classifier:KNeighborsClassifier:p : '1:int' -> '2:int'\n"
     ]
    },
    {
     "name": "stdout",
     "output_type": "stream",
     "text": [
      " 45%|████▌     | 59/130 [00:15<00:18,  3.86trial/s, max budget: 1.0, best loss: 0.018]"
     ]
    },
    {
     "name": "stderr",
     "output_type": "stream",
     "text": [
      "INFO:incumbent_trajectory:Challenger (0.0139) is better than incumbent (0.0184) when budget is (1).\n",
      "INFO:incumbent_trajectory:Changes in incumbent:\n",
      "INFO:incumbent_trajectory:  classifier:KNeighborsClassifier:p : '1:int' -> '2:int'\n"
     ]
    },
    {
     "name": "stdout",
     "output_type": "stream",
     "text": [
      " 47%|████▋     | 61/130 [00:15<00:17,  3.90trial/s, max budget: 1.0, best loss: 0.014]"
     ]
    },
    {
     "name": "stderr",
     "output_type": "stream",
     "text": [
      "INFO:incumbent_trajectory:Challenger (0.0128) is better than incumbent (0.0139) when budget is (1).\n",
      "INFO:incumbent_trajectory:Changes in incumbent:\n",
      "INFO:incumbent_trajectory:  classifier:KNeighborsClassifier:n_neighbors : 1 -> 3\n"
     ]
    },
    {
     "name": "stdout",
     "output_type": "stream",
     "text": [
      " 58%|█████▊    | 76/130 [00:17<00:08,  6.48trial/s, max budget: 1.0, best loss: 0.013]"
     ]
    },
    {
     "name": "stderr",
     "output_type": "stream",
     "text": [
      "INFO:incumbent_trajectory:Challenger (0.0117) is better than incumbent (0.0128) when budget is (1).\n",
      "INFO:incumbent_trajectory:Changes in incumbent:\n",
      "INFO:incumbent_trajectory:  classifier:KNeighborsClassifier:n_neighbors : 3 -> 4\n",
      "INFO:incumbent_trajectory:Challenger (0.0345) is better than incumbent (0.0479) when budget is (1/4).\n",
      "INFO:incumbent_trajectory:Changes in incumbent:\n",
      "INFO:incumbent_trajectory:  classifier:KNeighborsClassifier:n_neighbors : 1 -> 5\n",
      "INFO:incumbent_trajectory:  classifier:KNeighborsClassifier:p : '1:int' -> '2:int'\n"
     ]
    },
    {
     "name": "stdout",
     "output_type": "stream",
     "text": [
      "100%|██████████| 130/130 [00:23<00:00,  5.49trial/s, max budget: 1.0, best loss: 0.012]\n"
     ]
    },
    {
     "data": {
      "text/plain": [
       "<ultraopt.result.Result at 0x7f3b0d3c5da0>"
      ]
     },
     "execution_count": 18,
     "metadata": {},
     "output_type": "execute_result"
    }
   ],
   "source": [
    "master.run(n_iterations=30)"
   ]
  },
  {
   "cell_type": "markdown",
   "metadata": {},
   "source": [
    "我们可以对**优化过程**和**优化结果**进行可视化分析："
   ]
  },
  {
   "cell_type": "code",
   "execution_count": 19,
   "metadata": {},
   "outputs": [],
   "source": [
    "from ultraopt import FMinResult"
   ]
  },
  {
   "cell_type": "code",
   "execution_count": 20,
   "metadata": {},
   "outputs": [
    {
     "data": {
      "text/plain": [
       "+--------------------------------------------------------------------------------------------------------------------------+\n",
       "| HyperParameters                                     | Optimal Value                                                      |\n",
       "+-----------------------------------------------------+----------------------+----------------------+----------------------+\n",
       "| classifier:__choice__                               | KNeighborsClassifier | KNeighborsClassifier | KNeighborsClassifier |\n",
       "| classifier:KNeighborsClassifier:n_neighbors         | 5                    | 1                    | 4                    |\n",
       "| classifier:KNeighborsClassifier:p                   | 2:int                | 2:int                | 2:int                |\n",
       "| classifier:KNeighborsClassifier:weights             | distance             | distance             | distance             |\n",
       "| classifier:LinearSVC:C                              | -                    | -                    | -                    |\n",
       "| classifier:LinearSVC:dual                           | -                    | -                    | -                    |\n",
       "| classifier:LinearSVC:loss                           | -                    | -                    | -                    |\n",
       "| classifier:LinearSVC:max_iter                       | -                    | -                    | -                    |\n",
       "| classifier:LinearSVC:multi_class                    | -                    | -                    | -                    |\n",
       "| classifier:LinearSVC:penalty                        | -                    | -                    | -                    |\n",
       "| classifier:LinearSVC:random_state                   | -                    | -                    | -                    |\n",
       "| classifier:RandomForestClassifier:bootstrap         | -                    | -                    | -                    |\n",
       "| classifier:RandomForestClassifier:criterion         | -                    | -                    | -                    |\n",
       "| classifier:RandomForestClassifier:max_features      | -                    | -                    | -                    |\n",
       "| classifier:RandomForestClassifier:min_samples_leaf  | -                    | -                    | -                    |\n",
       "| classifier:RandomForestClassifier:min_samples_split | -                    | -                    | -                    |\n",
       "| classifier:RandomForestClassifier:n_estimators      | -                    | -                    | -                    |\n",
       "| classifier:RandomForestClassifier:random_state      | -                    | -                    | -                    |\n",
       "+-----------------------------------------------------+----------------------+----------------------+----------------------+\n",
       "| Budgets                                             | 1/4                  | 1/2                  | 1 (max)              |\n",
       "+-----------------------------------------------------+----------------------+----------------------+----------------------+\n",
       "| Optimal Loss                                        | 0.0345               | 0.0217               | 0.0117               |\n",
       "+-----------------------------------------------------+----------------------+----------------------+----------------------+\n",
       "| Num Configs                                         | 40                   | 40                   | 50                   |\n",
       "+-----------------------------------------------------+----------------------+----------------------+----------------------+"
      ]
     },
     "execution_count": 20,
     "metadata": {},
     "output_type": "execute_result"
    }
   ],
   "source": [
    "result = FMinResult(optimizer)\n",
    "result"
   ]
  },
  {
   "cell_type": "markdown",
   "metadata": {},
   "source": [
    "我们之前在后台启动了`2`个`Worker`， 所以**并行图**显示时序中的最大并行数为`2`"
   ]
  },
  {
   "cell_type": "code",
   "execution_count": 21,
   "metadata": {},
   "outputs": [
    {
     "data": {
      "image/png": "[encoded data removed]",
      "text/plain": [
       "<Figure size 432x288 with 1 Axes>"
      ]
     },
     "metadata": {
      "needs_background": "light"
     },
     "output_type": "display_data"
    }
   ],
   "source": [
    "result.plot_concurrent_over_time(num_points=200);"
   ]
  },
  {
   "cell_type": "markdown",
   "metadata": {},
   "source": [
    "绘制之前学习过的其他图片："
   ]
  },
  {
   "cell_type": "code",
   "execution_count": 22,
   "metadata": {},
   "outputs": [],
   "source": [
    "import pylab as plt"
   ]
  },
  {
   "cell_type": "code",
   "execution_count": 23,
   "metadata": {},
   "outputs": [
    {
     "data": {
      "image/png": "[encoded data removed]",
      "text/plain": [
       "<Figure size 1152x864 with 5 Axes>"
      ]
     },
     "metadata": {
      "needs_background": "light"
     },
     "output_type": "display_data"
    }
   ],
   "source": [
    "plt.rcParams['figure.figsize'] = (16, 12)\n",
    "plt.subplot(2, 2, 1)\n",
    "result.plot_convergence_over_time();\n",
    "plt.subplot(2, 2, 2)\n",
    "ax = result.plot_convergence_over_iter(budget=1, name=\"budget = 1\")\n",
    "plt.subplot(2, 2, 3)\n",
    "result.plot_finished_over_time();\n",
    "plt.subplot(2, 2, 4)\n",
    "result.plot_correlation_across_budgets();"
   ]
  },
  {
   "cell_type": "markdown",
   "metadata": {},
   "source": [
    "### 释放资源"
   ]
  },
  {
   "cell_type": "markdown",
   "metadata": {},
   "source": [
    "完成计算后，我们需要将后台的`Worker`等线程关闭，避免对端口等资源的长时间占用。\n",
    "\n",
    "我们首先关闭 `master` , 关闭master时会自动关闭所有被连接的 `worker`"
   ]
  },
  {
   "cell_type": "code",
   "execution_count": 24,
   "metadata": {},
   "outputs": [
    {
     "name": "stderr",
     "output_type": "stream",
     "text": [
      "INFO:ultraopt.async_comm.master.Master:HBMASTER: shutdown initiated, shutdown_workers = True\n"
     ]
    }
   ],
   "source": [
    "master.shutdown(shutdown_workers=True)"
   ]
  },
  {
   "cell_type": "markdown",
   "metadata": {},
   "source": [
    "然后关闭 `NameServer`"
   ]
  },
  {
   "cell_type": "code",
   "execution_count": 25,
   "metadata": {},
   "outputs": [],
   "source": [
    "NS.shutdown()"
   ]
  }
 ],
 "metadata": {
  "kernelspec": {
   "display_name": "auto-sklearn",
   "language": "python",
   "name": "auto-sklearn"
  },
  "language_info": {
   "codemirror_mode": {
    "name": "ipython",
    "version": 3
   },
   "file_extension": ".py",
   "mimetype": "text/x-python",
   "name": "python",
   "nbconvert_exporter": "python",
   "pygments_lexer": "ipython3",
   "version": "3.6.10"
  }
 },
 "nbformat": 4,
 "nbformat_minor": 4
}
